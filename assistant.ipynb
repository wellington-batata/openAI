{
 "cells": [
  {
   "cell_type": "markdown",
   "metadata": {},
   "source": [
    "## Criar o Assistente"
   ]
  },
  {
   "cell_type": "code",
   "execution_count": 2,
   "metadata": {},
   "outputs": [],
   "source": [
    "\n",
    "import openai\n",
    "import os\n",
    "from dotenv import find_dotenv, load_dotenv\n",
    "\n",
    "# load the api key\n",
    "_ = load_dotenv(find_dotenv())\n",
    "client = openai.Client(api_key=os.getenv(\"API_KEY\"))"
   ]
  },
  {
   "cell_type": "markdown",
   "metadata": {},
   "source": [
    "### criando o assistente"
   ]
  },
  {
   "cell_type": "code",
   "execution_count": 3,
   "metadata": {},
   "outputs": [],
   "source": [
    "assistant = client.beta.assistants.create(\n",
    "    name=\"Tutor de matemática\",\n",
    "    instructions=\"Você é um tutor de matemática e deve ajudar os alunos a resolver problemas de matemática. Escreva e execute o código para resolver os problemas.\",\n",
    "    tools=[{\"type\": \"code_interpreter\"}],\n",
    "    model=\"gpt-3.5-turbo-0125\"\n",
    ")"
   ]
  },
  {
   "cell_type": "markdown",
   "metadata": {},
   "source": [
    "### Criando uma Thread"
   ]
  },
  {
   "cell_type": "code",
   "execution_count": 5,
   "metadata": {},
   "outputs": [],
   "source": [
    "thread = client.beta.threads.create()"
   ]
  },
  {
   "cell_type": "code",
   "execution_count": 6,
   "metadata": {},
   "outputs": [],
   "source": [
    "message = client.beta.threads.messages.create(\n",
    "    thread_id=thread.id,\n",
    "    role=\"user\",\n",
    "    content=\"Qual a probabilidade de obter exatamente 150 vezes o número 6 ao lançar um dado honesto 1000 vezes aproximadamente?\"\n",
    ")"
   ]
  },
  {
   "cell_type": "markdown",
   "metadata": {},
   "source": [
    "### Rodando a threead"
   ]
  },
  {
   "cell_type": "code",
   "execution_count": 7,
   "metadata": {},
   "outputs": [],
   "source": [
    "run = client.beta.threads.runs.create(\n",
    "    thread_id=thread.id,\n",
    "    assistant_id=assistant.id,\n",
    "    instructions=\"O nome do usuário é Wellington e ele é um usuário Premium.\"\n",
    ")"
   ]
  },
  {
   "cell_type": "markdown",
   "metadata": {},
   "source": [
    "### Aguardart a thread rodar"
   ]
  },
  {
   "cell_type": "code",
   "execution_count": 8,
   "metadata": {},
   "outputs": [
    {
     "name": "stdout",
     "output_type": "stream",
     "text": [
      "in_progress\n",
      "in_progress\n",
      "in_progress\n",
      "in_progress\n",
      "in_progress\n",
      "completed\n"
     ]
    }
   ],
   "source": [
    "import time\n",
    "# roda várias vezes para identificar o status\n",
    "while run.status in  [\"queued\", \"in_progress\", \"cancelling\" ]:\n",
    "    time.sleep(1)\n",
    "    run = client.beta.threads.runs.retrieve(\n",
    "        thread_id=thread.id,\n",
    "        run_id=run.id\n",
    "    )\n",
    "    print(run.status)"
   ]
  },
  {
   "cell_type": "markdown",
   "metadata": {},
   "source": [
    "### Quando terminar de roddar"
   ]
  },
  {
   "cell_type": "code",
   "execution_count": 9,
   "metadata": {},
   "outputs": [
    {
     "name": "stdout",
     "output_type": "stream",
     "text": [
      "SyncCursorPage[Message](data=[Message(id='msg_cFLS9ksrc1aH7j2M7WPZ1bvL', assistant_id='asst_rHJyuZQBplQ2Qz17nCiUlfv4', attachments=[], completed_at=None, content=[TextContentBlock(text=Text(annotations=[], value='A probabilidade de obter exatamente 150 vezes o número 6 ao lançar um dado honesto 1000 vezes é aproximadamente 0.0126, ou seja, aproximadamente 1.26%.'), type='text')], created_at=1741648757, incomplete_at=None, incomplete_details=None, metadata={}, object='thread.message', role='assistant', run_id='run_9evRmcoNNrSDnSD2MXUrwQsD', status=None, thread_id='thread_GEnGqKFXau2VWx6Ex06SDfV3'), Message(id='msg_k3eGTxG2PIWgnR4M49JZcpFi', assistant_id='asst_rHJyuZQBplQ2Qz17nCiUlfv4', attachments=[], completed_at=None, content=[TextContentBlock(text=Text(annotations=[], value='Para calcular a probabilidade de obter exatamente 150 vezes o número 6 ao lançar um dado honesto 1000 vezes, podemos usar a distribuição binomial. A fórmula da distribuição binomial é dada por:\\n\\n\\\\[ P(X = k) = \\\\binom{n}{k} \\\\times p^k \\\\times (1-p)^{n-k} \\\\]\\n\\nonde:\\n- \\\\( P(X = k) \\\\) é a probabilidade de obter exatamente \\\\(k\\\\) sucessos\\n- \\\\( n \\\\) é o número total de tentativas\\n- \\\\( k \\\\) é o número exato de sucessos desejados\\n- \\\\( p \\\\) é a probabilidade de sucesso em uma única tentativa\\n\\nNo nosso caso, \\\\( n = 1000 \\\\) (número de lançamentos), \\\\( k = 150 \\\\) (número de vezes que queremos obter o número 6), e \\\\( p = \\\\frac{1}{6} \\\\) (probabilidade de obter o número 6 em um dado lançamento).\\n\\nVamos calcular a probabilidade utilizando esses valores.'), type='text')], created_at=1741648753, incomplete_at=None, incomplete_details=None, metadata={}, object='thread.message', role='assistant', run_id='run_9evRmcoNNrSDnSD2MXUrwQsD', status=None, thread_id='thread_GEnGqKFXau2VWx6Ex06SDfV3'), Message(id='msg_A4H0re5OSFj0BemUGcju4ul9', assistant_id=None, attachments=[], completed_at=None, content=[TextContentBlock(text=Text(annotations=[], value='Qual a probabilidade de obter exatamente 150 vezes o número 6 ao lançar um dado honesto 1000 vezes aproximadamente?'), type='text')], created_at=1741648748, incomplete_at=None, incomplete_details=None, metadata={}, object='thread.message', role='user', run_id=None, status=None, thread_id='thread_GEnGqKFXau2VWx6Ex06SDfV3')], has_more=False, object='list', first_id='msg_cFLS9ksrc1aH7j2M7WPZ1bvL', last_id='msg_A4H0re5OSFj0BemUGcju4ul9')\n"
     ]
    }
   ],
   "source": [
    "if run.status == \"completed\":\n",
    "    messages = client.beta.threads.messages.list(\n",
    "        thread_id=thread.id,\n",
    "    )\n",
    "    print(messages)\n",
    "else:\n",
    "    print(run.error)"
   ]
  },
  {
   "cell_type": "code",
   "execution_count": 10,
   "metadata": {},
   "outputs": [
    {
     "name": "stdout",
     "output_type": "stream",
     "text": [
      "A probabilidade de obter exatamente 150 vezes o número 6 ao lançar um dado honesto 1000 vezes é aproximadamente 0.0126, ou seja, aproximadamente 1.26%.\n"
     ]
    }
   ],
   "source": [
    "print(messages.data[0].content[0].text.value)"
   ]
  },
  {
   "cell_type": "markdown",
   "metadata": {},
   "source": [
    "### Analisando os passos do modelo"
   ]
  },
  {
   "cell_type": "code",
   "execution_count": 11,
   "metadata": {},
   "outputs": [],
   "source": [
    "run_steps = client.beta.threads.runs.steps.list(\n",
    "    thread_id=thread.id,\n",
    "    run_id=run.id\n",
    ")"
   ]
  },
  {
   "cell_type": "code",
   "execution_count": 12,
   "metadata": {},
   "outputs": [
    {
     "data": {
      "text/plain": [
       "MessageCreationStepDetails(message_creation=MessageCreation(message_id='msg_cFLS9ksrc1aH7j2M7WPZ1bvL'), type='message_creation')"
      ]
     },
     "execution_count": 12,
     "metadata": {},
     "output_type": "execute_result"
    }
   ],
   "source": [
    "run_steps.data[0].step_details"
   ]
  },
  {
   "cell_type": "code",
   "execution_count": 13,
   "metadata": {},
   "outputs": [
    {
     "name": "stdout",
     "output_type": "stream",
     "text": [
      "#step: message_creation\n",
      "--- message_text: Para calcular a probabilidade de obter exatamente 150 vezes o número 6 ao lançar um dado honesto 1000 vezes, podemos usar a distribuição binomial. A fórmula da distribuição binomial é dada por:\n",
      "\n",
      "\\[ P(X = k) = \\binom{n}{k} \\times p^k \\times (1-p)^{n-k} \\]\n",
      "\n",
      "onde:\n",
      "- \\( P(X = k) \\) é a probabilidade de obter exatamente \\(k\\) sucessos\n",
      "- \\( n \\) é o número total de tentativas\n",
      "- \\( k \\) é o número exato de sucessos desejados\n",
      "- \\( p \\) é a probabilidade de sucesso em uma única tentativa\n",
      "\n",
      "No nosso caso, \\( n = 1000 \\) (número de lançamentos), \\( k = 150 \\) (número de vezes que queremos obter o número 6), e \\( p = \\frac{1}{6} \\) (probabilidade de obter o número 6 em um dado lançamento).\n",
      "\n",
      "Vamos calcular a probabilidade utilizando esses valores.\n",
      "#step: tool_calls\n",
      "> tool_call type: code_interpreter\n",
      "> input:\n",
      "from math import comb\n",
      "\n",
      "# Definindo os parâmetros\n",
      "n = 1000\n",
      "k = 150\n",
      "p = 1/6\n",
      "\n",
      "# Calculando a probabilidade\n",
      "probability = comb(n, k) * (p**k) * ((1-p)**(n-k))\n",
      "probability\n",
      "> outputs: []\n",
      "#step: message_creation\n",
      "--- message_text: A probabilidade de obter exatamente 150 vezes o número 6 ao lançar um dado honesto 1000 vezes é aproximadamente 0.0126, ou seja, aproximadamente 1.26%.\n"
     ]
    }
   ],
   "source": [
    "for step in run_steps.data[::-1]:\n",
    "    print(\"#step:\", step.step_details.type)\n",
    "    if step.step_details.type == \"tool_calls\":\n",
    "        for tool_call in step.step_details.tool_calls:\n",
    "            print(\"> tool_call type:\", tool_call.type)\n",
    "            print(\"> input:\")\n",
    "            print(tool_call.code_interpreter.input)\n",
    "            print(\"> outputs:\", tool_call.code_interpreter.outputs)\n",
    "    if step.step_details.type == \"message_creation\":\n",
    "        message = client.beta.threads.messages.retrieve(\n",
    "            thread_id=thread.id, message_id=step.step_details.message_creation.message_id\n",
    "        )\n",
    "        print(\"--- message_text:\", message.content[0].text.value)\n"
   ]
  }
 ],
 "metadata": {
  "kernelspec": {
   "display_name": ".venv",
   "language": "python",
   "name": "python3"
  },
  "language_info": {
   "codemirror_mode": {
    "name": "ipython",
    "version": 3
   },
   "file_extension": ".py",
   "mimetype": "text/x-python",
   "name": "python",
   "nbconvert_exporter": "python",
   "pygments_lexer": "ipython3",
   "version": "3.13.2"
  }
 },
 "nbformat": 4,
 "nbformat_minor": 2
}
