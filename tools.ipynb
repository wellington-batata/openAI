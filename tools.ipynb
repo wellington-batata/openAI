{
 "cells": [
  {
   "cell_type": "markdown",
   "metadata": {},
   "source": [
    "## Aprendizado sobre tools de OpenAI"
   ]
  },
  {
   "cell_type": "markdown",
   "metadata": {},
   "source": [
    "### Le o arquivo com o conteudo do arquivo"
   ]
  },
  {
   "cell_type": "code",
   "execution_count": 222,
   "metadata": {},
   "outputs": [],
   "source": [
    "import openai\n",
    "import json\n",
    "import os\n",
    "from dotenv import find_dotenv, load_dotenv\n",
    "\n",
    "# load the api key\n",
    "_ = load_dotenv(find_dotenv())\n",
    "client = openai.OpenAI(api_key=os.getenv(\"API_KEY\"))\n",
    "list_of_dicts = []\n",
    "\n",
    "def parse_line(line):\n",
    "    result = {}\n",
    "    # Split with | delimiter\n",
    "    parts = line.strip().split('|')\n",
    "    \n",
    "    if len(parts) >= 2:\n",
    "        result['email'] = parts[0].strip()\n",
    "        # Check if pwd has space for comments\n",
    "        pwd_parts = parts[1].strip().split(' ', 1)\n",
    "        result['pwd'] = pwd_parts[0]\n",
    "        \n",
    "        # Add comment if exists\n",
    "        if len(pwd_parts) > 1:\n",
    "            result['comment'] = pwd_parts[1]\n",
    "    \n",
    "    return result\n",
    "\n",
    "def list_of_email_password(file_path=\"pwd.txt\"):\n",
    "    list_of_dicts.clear()\n",
    "    try:\n",
    "        with open(file_path, 'r') as file:\n",
    "            for line in file:\n",
    "                # Removes the new line character if necessary\n",
    "                line = line.strip()\n",
    "                #Process the line\n",
    "                parsed = parse_line(line)\n",
    "                list_of_dicts.append(parsed)\n",
    "                # print(parsed)\n",
    "    except FileNotFoundError:\n",
    "        print(f\"File not found: {file_path}\")\n",
    "    except Exception as e:\n",
    "        print(f\"An error occurred: {e}\")\n",
    "    return list_of_dicts\n",
    "        "
   ]
  },
  {
   "cell_type": "markdown",
   "metadata": {},
   "source": [
    "Usando a função"
   ]
  },
  {
   "cell_type": "code",
   "execution_count": 223,
   "metadata": {},
   "outputs": [
    {
     "data": {
      "text/plain": [
       "[{'email': 'djskaner@hotmail.com', 'pwd': 'rockgpzt'},\n",
       " {'email': 'aline.limp@gmail.com', 'pwd': '151213aej'},\n",
       " {'email': 'wilsongilberto@terra.com.br', 'pwd': '1959ywlk'},\n",
       " {'email': 'wilsongilberto@terra.com.br', 'pwd': '1959ywlk'},\n",
       " {'email': 'Boleti_bep@hotmail.com', 'pwd': '524718ml'},\n",
       " {'email': 'agiginola@bol.com.br', 'pwd': 'isabela9'},\n",
       " {'email': 'sonia.osorio@globo.com', 'pwd': 'c8c2i2e1'},\n",
       " {'email': 'klebergs789@gmail.com', 'pwd': 'matheuskauan'},\n",
       " {'email': 'gerlanemsl@hotmail.com', 'pwd': 'edenilson'},\n",
       " {'email': 'thiagomarques@hotmail.co.uk', 'pwd': 'technicolorvh1!'},\n",
       " {'email': 'belmugo@gmail.com', 'pwd': '03011404'}]"
      ]
     },
     "execution_count": 223,
     "metadata": {},
     "output_type": "execute_result"
    }
   ],
   "source": [
    "list_of_email_password('pwd.txt')"
   ]
  },
  {
   "cell_type": "markdown",
   "metadata": {},
   "source": [
    "Para o modelo devemos transformar o dicionário em string com `json.dumps()`"
   ]
  },
  {
   "cell_type": "code",
   "execution_count": 224,
   "metadata": {},
   "outputs": [
    {
     "data": {
      "text/plain": [
       "'[{\"email\": \"djskaner@hotmail.com\", \"pwd\": \"rockgpzt\"}, {\"email\": \"aline.limp@gmail.com\", \"pwd\": \"151213aej\"}, {\"email\": \"wilsongilberto@terra.com.br\", \"pwd\": \"1959ywlk\"}, {\"email\": \"wilsongilberto@terra.com.br\", \"pwd\": \"1959ywlk\"}, {\"email\": \"Boleti_bep@hotmail.com\", \"pwd\": \"524718ml\"}, {\"email\": \"agiginola@bol.com.br\", \"pwd\": \"isabela9\"}, {\"email\": \"sonia.osorio@globo.com\", \"pwd\": \"c8c2i2e1\"}, {\"email\": \"klebergs789@gmail.com\", \"pwd\": \"matheuskauan\"}, {\"email\": \"gerlanemsl@hotmail.com\", \"pwd\": \"edenilson\"}, {\"email\": \"thiagomarques@hotmail.co.uk\", \"pwd\": \"technicolorvh1!\"}, {\"email\": \"belmugo@gmail.com\", \"pwd\": \"03011404\"}]'"
      ]
     },
     "execution_count": 224,
     "metadata": {},
     "output_type": "execute_result"
    }
   ],
   "source": [
    "json.dumps(list_of_dicts)"
   ]
  },
  {
   "cell_type": "markdown",
   "metadata": {},
   "source": [
    "Criando as tools para o modelo"
   ]
  },
  {
   "cell_type": "code",
   "execution_count": 225,
   "metadata": {},
   "outputs": [],
   "source": [
    "tools = [\n",
    "    {\n",
    "        \"type\": \"function\",\n",
    "        \"function\": {\n",
    "            \"name\": \"list_of_email_password\",\n",
    "            \"description\": \"Get the email list and password\",\n",
    "            \"parameters\": {\n",
    "                \"type\": \"object\",\n",
    "                \"properties\": {\n",
    "                    \"file_path\": {\n",
    "                        \"type\": \"string\",\n",
    "                        \"description\": \"The path to the file\"\n",
    "                    }\n",
    "                },\n",
    "                \"required\": [\"file_path\"]\n",
    "            }\n",
    "        }\n",
    "    }\n",
    "]\n",
    "\n",
    "avaliable_tools = {\n",
    "    \"list_of_email_password\": list_of_email_password\n",
    "}\n",
    "\n"
   ]
  },
  {
   "cell_type": "markdown",
   "metadata": {},
   "source": [
    "Chama o modelo de linguagem do OpenAI"
   ]
  },
  {
   "cell_type": "code",
   "execution_count": 253,
   "metadata": {},
   "outputs": [],
   "source": [
    "messages = [\n",
    "    {\"role\": \"user\", \"content\": \"Quais os domínios dos emails?\"}\n",
    "]\n",
    "\n",
    "file_path = \"pwd.txt\"\n",
    "result = client.chat.completions.create(\n",
    "    model=\"gpt-3.5-turbo-0125\",\n",
    "    messages=messages,\n",
    "    tools=tools,\n",
    "    tool_choice=\"auto\",\n",
    "    )"
   ]
  },
  {
   "cell_type": "code",
   "execution_count": 254,
   "metadata": {},
   "outputs": [
    {
     "data": {
      "text/plain": [
       "ChatCompletion(id='chatcmpl-B77H7XXYg9lieM7M9wJBJcdTo0sN6', choices=[Choice(finish_reason='tool_calls', index=0, logprobs=None, message=ChatCompletionMessage(content=None, refusal=None, role='assistant', audio=None, function_call=None, tool_calls=[ChatCompletionMessageToolCall(id='call_ra14v5C4EAbpj2qkcUyTWz9Q', function=Function(arguments='{\"file_path\":\"data/emails.txt\"}', name='list_of_email_password'), type='function')]))], created=1741035961, model='gpt-3.5-turbo-0125', object='chat.completion', service_tier='default', system_fingerprint=None, usage=CompletionUsage(completion_tokens=21, prompt_tokens=65, total_tokens=86, completion_tokens_details=CompletionTokensDetails(accepted_prediction_tokens=0, audio_tokens=0, reasoning_tokens=0, rejected_prediction_tokens=0), prompt_tokens_details=PromptTokensDetails(audio_tokens=0, cached_tokens=0)))"
      ]
     },
     "execution_count": 254,
     "metadata": {},
     "output_type": "execute_result"
    }
   ],
   "source": [
    "result"
   ]
  },
  {
   "cell_type": "markdown",
   "metadata": {},
   "source": [
    "Valida se vai precisar usar alguma função fornecida"
   ]
  },
  {
   "cell_type": "code",
   "execution_count": 255,
   "metadata": {},
   "outputs": [
    {
     "name": "stdout",
     "output_type": "stream",
     "text": [
      "[{'email': 'djskaner@hotmail.com', 'pwd': 'rockgpzt'}, {'email': 'aline.limp@gmail.com', 'pwd': '151213aej'}, {'email': 'wilsongilberto@terra.com.br', 'pwd': '1959ywlk'}, {'email': 'wilsongilberto@terra.com.br', 'pwd': '1959ywlk'}, {'email': 'Boleti_bep@hotmail.com', 'pwd': '524718ml'}, {'email': 'agiginola@bol.com.br', 'pwd': 'isabela9'}, {'email': 'sonia.osorio@globo.com', 'pwd': 'c8c2i2e1'}, {'email': 'klebergs789@gmail.com', 'pwd': 'matheuskauan'}, {'email': 'gerlanemsl@hotmail.com', 'pwd': 'edenilson'}, {'email': 'thiagomarques@hotmail.co.uk', 'pwd': 'technicolorvh1!'}, {'email': 'belmugo@gmail.com', 'pwd': '03011404'}]\n"
     ]
    }
   ],
   "source": [
    "message_result = result.choices[0].message\n",
    "tool_calls = message_result.tool_calls\n",
    "\n",
    "\n",
    "if tool_calls:\n",
    "    messages.append(message_result)\n",
    "    for tool_call in tool_calls:\n",
    "        function_name = tool_call.function.name\n",
    "        function_to_call = avaliable_tools[function_name]\n",
    "        # function_args = json.loads(tool_call.function.arguments)\n",
    "        function_response = function_to_call(file_path=file_path)\n",
    "        messages.append({\n",
    "            \"tool_call_id\": tool_call.id,\n",
    "            \"role\": \"tool\",\n",
    "            \"name\": function_name,\n",
    "            \"content\": json.dumps(function_response)\n",
    "        })\n",
    "        print(function_response)"
   ]
  },
  {
   "cell_type": "code",
   "execution_count": 256,
   "metadata": {},
   "outputs": [
    {
     "data": {
      "text/plain": [
       "[{'role': 'user', 'content': 'Quais os domínios dos emails?'},\n",
       " ChatCompletionMessage(content=None, refusal=None, role='assistant', audio=None, function_call=None, tool_calls=[ChatCompletionMessageToolCall(id='call_ra14v5C4EAbpj2qkcUyTWz9Q', function=Function(arguments='{\"file_path\":\"data/emails.txt\"}', name='list_of_email_password'), type='function')]),\n",
       " {'tool_call_id': 'call_ra14v5C4EAbpj2qkcUyTWz9Q',\n",
       "  'role': 'tool',\n",
       "  'name': 'list_of_email_password',\n",
       "  'content': '[{\"email\": \"djskaner@hotmail.com\", \"pwd\": \"rockgpzt\"}, {\"email\": \"aline.limp@gmail.com\", \"pwd\": \"151213aej\"}, {\"email\": \"wilsongilberto@terra.com.br\", \"pwd\": \"1959ywlk\"}, {\"email\": \"wilsongilberto@terra.com.br\", \"pwd\": \"1959ywlk\"}, {\"email\": \"Boleti_bep@hotmail.com\", \"pwd\": \"524718ml\"}, {\"email\": \"agiginola@bol.com.br\", \"pwd\": \"isabela9\"}, {\"email\": \"sonia.osorio@globo.com\", \"pwd\": \"c8c2i2e1\"}, {\"email\": \"klebergs789@gmail.com\", \"pwd\": \"matheuskauan\"}, {\"email\": \"gerlanemsl@hotmail.com\", \"pwd\": \"edenilson\"}, {\"email\": \"thiagomarques@hotmail.co.uk\", \"pwd\": \"technicolorvh1!\"}, {\"email\": \"belmugo@gmail.com\", \"pwd\": \"03011404\"}]'}]"
      ]
     },
     "execution_count": 256,
     "metadata": {},
     "output_type": "execute_result"
    }
   ],
   "source": [
    "messages"
   ]
  },
  {
   "cell_type": "markdown",
   "metadata": {},
   "source": [
    "Obtém a segunda resposta do modelo, agora sem a necessidade de passar a tools"
   ]
  },
  {
   "cell_type": "code",
   "execution_count": 257,
   "metadata": {},
   "outputs": [
    {
     "name": "stdout",
     "output_type": "stream",
     "text": [
      "ChatCompletion(id='chatcmpl-B77H8PGSG9k5sNkmC7kSRdjlw0WN7', choices=[Choice(finish_reason='stop', index=0, logprobs=None, message=ChatCompletionMessage(content='Os domínios dos emails presentes no arquivo são: hotmail.com, gmail.com, terra.com.br, bol.com.br e globo.com.', refusal=None, role='assistant', audio=None, function_call=None, tool_calls=None))], created=1741035962, model='gpt-3.5-turbo-0125', object='chat.completion', service_tier='default', system_fingerprint=None, usage=CompletionUsage(completion_tokens=32, prompt_tokens=285, total_tokens=317, completion_tokens_details=CompletionTokensDetails(accepted_prediction_tokens=0, audio_tokens=0, reasoning_tokens=0, rejected_prediction_tokens=0), prompt_tokens_details=PromptTokensDetails(audio_tokens=0, cached_tokens=0)))\n"
     ]
    }
   ],
   "source": [
    "final_output = client.chat.completions.create(\n",
    "    model=\"gpt-3.5-turbo-0125\",\n",
    "    messages=messages\n",
    ")\n",
    "print(final_output)"
   ]
  },
  {
   "cell_type": "code",
   "execution_count": 258,
   "metadata": {},
   "outputs": [
    {
     "name": "stdout",
     "output_type": "stream",
     "text": [
      "Os domínios dos emails presentes no arquivo são: hotmail.com, gmail.com, terra.com.br, bol.com.br e globo.com.\n"
     ]
    }
   ],
   "source": [
    "output = final_output.choices[0].message\n",
    "print(output.content)"
   ]
  }
 ],
 "metadata": {
  "kernelspec": {
   "display_name": ".venv",
   "language": "python",
   "name": "python3"
  },
  "language_info": {
   "codemirror_mode": {
    "name": "ipython",
    "version": 3
   },
   "file_extension": ".py",
   "mimetype": "text/x-python",
   "name": "python",
   "nbconvert_exporter": "python",
   "pygments_lexer": "ipython3",
   "version": "3.13.2"
  }
 },
 "nbformat": 4,
 "nbformat_minor": 2
}
