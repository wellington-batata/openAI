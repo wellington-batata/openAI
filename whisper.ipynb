{
 "cells": [
  {
   "cell_type": "markdown",
   "metadata": {},
   "source": [
    "### Transcrição de audio"
   ]
  },
  {
   "cell_type": "code",
   "execution_count": 1,
   "metadata": {},
   "outputs": [],
   "source": [
    "from client_openai import OpenAIClient\n",
    "openaiClient = OpenAIClient()\n",
    "\n",
    "client = openaiClient.get_client()"
   ]
  },
  {
   "cell_type": "code",
   "execution_count": 8,
   "metadata": {},
   "outputs": [
    {
     "name": "stdout",
     "output_type": "stream",
     "text": [
      "1\n",
      "00:00:00,000 --> 00:00:06,720\n",
      "Olá, como vai? Eu sou o Batata e estou testando a API da OpenAI para gerar um áudio a partir de um texto.\n",
      "\n",
      "\n",
      "\n"
     ]
    }
   ],
   "source": [
    "audio_path = 'files/audio/audio.mp3'\n",
    "audio = open(f'{audio_path}', 'rb')\n",
    "\n",
    "transcription = client.audio.transcriptions.create(\n",
    "    model=\"whisper-1\",\n",
    "    file=audio,\n",
    "    prompt=\"Este é um audio de teste criado pelo Wellington, seu apelido é batata. Ao invés do apelido use o nome quando necessário\",\n",
    "    response_format=\"srt\",\n",
    "    language=\"pt\"\n",
    ")\n",
    "\n",
    "print(transcription)\n"
   ]
  }
 ],
 "metadata": {
  "kernelspec": {
   "display_name": ".venv",
   "language": "python",
   "name": "python3"
  },
  "language_info": {
   "codemirror_mode": {
    "name": "ipython",
    "version": 3
   },
   "file_extension": ".py",
   "mimetype": "text/x-python",
   "name": "python",
   "nbconvert_exporter": "python",
   "pygments_lexer": "ipython3",
   "version": "3.13.2"
  }
 },
 "nbformat": 4,
 "nbformat_minor": 2
}
