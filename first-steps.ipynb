{
 "cells": [
  {
   "cell_type": "markdown",
   "metadata": {},
   "source": [
    "## Conectando com a API da OpenAI"
   ]
  },
  {
   "cell_type": "markdown",
   "metadata": {},
   "source": [
    "### Antes de começar\n",
    "\n",
    "- Crie um ambiente virtual \n",
    "```python -m pip venv .venv```\n",
    "- Instale as dependências do projeto\n",
    "```pip install -r /path/to/requirements.txt```"
   ]
  },
  {
   "cell_type": "code",
   "execution_count": 3,
   "metadata": {},
   "outputs": [
    {
     "name": "stdout",
     "output_type": "stream",
     "text": [
      "1.63.2\n"
     ]
    }
   ],
   "source": [
    "# Teste se instalou a biblioteca openai \n",
    "import openai\n",
    "print(openai.__version__)"
   ]
  },
  {
   "cell_type": "markdown",
   "metadata": {},
   "source": [
    "### Conecta na OpenAI através da chaves de API"
   ]
  },
  {
   "cell_type": "code",
   "execution_count": 2,
   "metadata": {},
   "outputs": [],
   "source": [
    "import os\n",
    "import openai\n",
    "from dotenv import load_dotenv, find_dotenv\n",
    "\n",
    "_ = load_dotenv(find_dotenv())\n",
    "\n",
    "client = openai.Client(api_key=os.getenv(\"API_KEY\"))"
   ]
  },
  {
   "cell_type": "code",
   "execution_count": 20,
   "metadata": {},
   "outputs": [],
   "source": [
    "\n",
    "def get_response(msg, stream=False):\n",
    "    message = [{\"role\": \"user\", \"content\": msg}]\n",
    "    response = client.chat.completions.create(\n",
    "        model=\"gpt-3.5-turbo-0125\",\n",
    "        messages=message,\n",
    "        max_tokens=1000,\n",
    "        temperature=0,\n",
    "        stream=stream\n",
    "    )\n",
    "    if stream:\n",
    "        return response\n",
    "    else:\n",
    "        message.append({\"role\": \"assistant\", \"content\": response.choices[0].message.content})\n",
    "        return message\n"
   ]
  },
  {
   "cell_type": "code",
   "execution_count": 22,
   "metadata": {},
   "outputs": [
    {
     "name": "stdout",
     "output_type": "stream",
     "text": [
      "[{'role': 'user', 'content': 'Qual a capital do Brasil?'}, {'role': 'assistant', 'content': 'A capital do Brasil é Brasília.'}]\n"
     ]
    }
   ],
   "source": [
    "response = get_response('Qual a capital do Brasil?')\n",
    "print(response)"
   ]
  },
  {
   "cell_type": "markdown",
   "metadata": {},
   "source": [
    "### Criando uma leitura de resposta por STREAM"
   ]
  },
  {
   "cell_type": "code",
   "execution_count": 24,
   "metadata": {},
   "outputs": [
    {
     "name": "stdout",
     "output_type": "stream",
     "text": [
      "Havia uma pequena cidade no interior, cercada por belas paisagens e campos floridos. Todos os anos, durante a primavera, as borboletas coloridas invadiam a cidade, trazendo consigo alegria e beleza.\n",
      "\n",
      "As crianças da cidade adoravam correr pelos campos, tentando pegar as borboletas que voavam graciosamente de flor em flor. Era um espetáculo encantador ver as asas coloridas desses insetos delicados dançando no ar.\n",
      "\n",
      "Um dia, uma menina chamada Sofia encontrou uma borboleta ferida em seu jardim. Ela a levou para dentro de casa e cuidou dela com todo carinho, alimentando-a com néctar e protegendo-a do vento e da chuva.\n",
      "\n",
      "Com o passar dos dias, a borboleta se recuperou e, para surpresa de Sofia, não voou embora. Em vez disso, ela ficou ao lado da menina, como se tivessem criado um laço especial.\n",
      "\n",
      "Juntas, Sofia e a borboleta exploravam os campos da cidade, espalhando beleza e alegria por onde passavam. As pessoas da cidade ficavam encantadas com a amizade incomum entre a menina e a borboleta, e logo a história se espalhou por toda a região.\n",
      "\n",
      "As borboletas, que antes eram apenas admiradas por sua beleza efêmera, passaram a ser vistas como mensageiras da amizade e do amor. E tudo graças à amizade entre Sofia e sua borboleta especial."
     ]
    }
   ],
   "source": [
    "response = get_response('Crie uma história sobre borboletas', True)\n",
    "for i in response:\n",
    "    txt = i.choices[0].delta.content\n",
    "    if txt is not None:\n",
    "        print(txt, end='')"
   ]
  }
 ],
 "metadata": {
  "kernelspec": {
   "display_name": ".venv",
   "language": "python",
   "name": "python3"
  },
  "language_info": {
   "codemirror_mode": {
    "name": "ipython",
    "version": 3
   },
   "file_extension": ".py",
   "mimetype": "text/x-python",
   "name": "python",
   "nbconvert_exporter": "python",
   "pygments_lexer": "ipython3",
   "version": "3.13.2"
  }
 },
 "nbformat": 4,
 "nbformat_minor": 4
}
