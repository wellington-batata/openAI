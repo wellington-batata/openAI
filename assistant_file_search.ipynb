{
 "cells": [
  {
   "cell_type": "markdown",
   "metadata": {},
   "source": [
    "## Criar o Assistente"
   ]
  },
  {
   "cell_type": "code",
   "execution_count": 1,
   "metadata": {},
   "outputs": [],
   "source": [
    "\n",
    "import openai\n",
    "import os\n",
    "from dotenv import find_dotenv, load_dotenv\n",
    "\n",
    "# load the api key\n",
    "_ = load_dotenv(find_dotenv())\n",
    "client = openai.Client(api_key=os.getenv(\"API_KEY\"))"
   ]
  },
  {
   "cell_type": "markdown",
   "metadata": {},
   "source": [
    "#### Cria o vetor"
   ]
  },
  {
   "cell_type": "code",
   "execution_count": 2,
   "metadata": {},
   "outputs": [],
   "source": [
    "vector_store = client.beta.vector_stores.create(name=\"Apostila ASIMOV\")"
   ]
  },
  {
   "cell_type": "markdown",
   "metadata": {},
   "source": [
    "#### Envia os arquivos para o assistente"
   ]
  },
  {
   "cell_type": "code",
   "execution_count": 3,
   "metadata": {},
   "outputs": [],
   "source": [
    "files = [\"files/Explorando a API da OpenAI.pdf\", \"files/Explorando o Universo das IAs com Hugging Face.pdf\"]\n",
    "\n",
    "file_streamms = [open(file, \"rb\") for file in files]\n",
    "\n",
    "file_batch = client.beta.vector_stores.file_batches.upload_and_poll(\n",
    "    vector_store_id= vector_store.id,\n",
    "    files=file_streamms,\n",
    ")"
   ]
  },
  {
   "cell_type": "code",
   "execution_count": 32,
   "metadata": {},
   "outputs": [
    {
     "name": "stdout",
     "output_type": "stream",
     "text": [
      "SyncCursorPage[VectorStoreFile](data=[VectorStoreFile(id='file-DhXvoFNcszP55Nf7XjwHFU', created_at=1741730561, last_error=None, object='vector_store.file', status='completed', usage_bytes=184818, vector_store_id='vs_67d0b26e2764819195ace1e9bf2a235c', chunking_strategy=StaticFileChunkingStrategyObject(static=StaticFileChunkingStrategy(chunk_overlap_tokens=400, max_chunk_size_tokens=800), type='static'), attributes={}), VectorStoreFile(id='file-N6tHSN5Segqyk8gd4M9Uag', created_at=1741730561, last_error=None, object='vector_store.file', status='completed', usage_bytes=192730, vector_store_id='vs_67d0b26e2764819195ace1e9bf2a235c', chunking_strategy=StaticFileChunkingStrategyObject(static=StaticFileChunkingStrategy(chunk_overlap_tokens=400, max_chunk_size_tokens=800), type='static'), attributes={})], has_more=False, object='list', first_id='file-DhXvoFNcszP55Nf7XjwHFU', last_id='file-N6tHSN5Segqyk8gd4M9Uag')\n"
     ]
    }
   ],
   "source": [
    "result = client.beta.vector_stores.files.list(\n",
    "    vector_store_id=vector_store.id\n",
    ")\n",
    "print(result)"
   ]
  },
  {
   "cell_type": "code",
   "execution_count": 35,
   "metadata": {},
   "outputs": [
    {
     "name": "stdout",
     "output_type": "stream",
     "text": [
      "completed\n",
      "2\n"
     ]
    }
   ],
   "source": [
    "print(file_batch.status)\n",
    "print(file_batch.file_counts.total)"
   ]
  },
  {
   "cell_type": "markdown",
   "metadata": {},
   "source": [
    "#### criando o assistente file search"
   ]
  },
  {
   "cell_type": "code",
   "execution_count": 37,
   "metadata": {},
   "outputs": [],
   "source": [
    "assistant = client.beta.assistants.create(\n",
    "    name=\"Tutor ASIMOV\",\n",
    "    instructions=\"Você é um tutor de uma escola de programação. Você é ótimo para responser perguntas teóricas sobre a api da OPENAI \\\n",
    "          e sobre a utilização da biblioteca HuggingFace com Python. Você utiliza as apostilas dos cursos para basear suas respostas. \\\n",
    "            Caso você não encontre as respostas nas apostilas informadas, você fala que não sabe responser.\",\n",
    "    tools=[{\"type\": \"file_search\"}],\n",
    "    tool_resources={\"file_search\": {\"vector_store_ids\": [vector_store.id]}},\n",
    "    model=\"gpt-4o-mini\"\n",
    ")"
   ]
  },
  {
   "cell_type": "markdown",
   "metadata": {},
   "source": [
    "### Criando uma Thread"
   ]
  },
  {
   "cell_type": "code",
   "execution_count": 38,
   "metadata": {},
   "outputs": [],
   "source": [
    "thread = client.beta.threads.create()"
   ]
  },
  {
   "cell_type": "code",
   "execution_count": 105,
   "metadata": {},
   "outputs": [],
   "source": [
    "question = \"Segundo o documento fornecido, o que é o Huggin face?\"\n",
    "message = client.beta.threads.messages.create(\n",
    "    thread_id=thread.id,\n",
    "    role=\"user\",\n",
    "    content=question\n",
    ")"
   ]
  },
  {
   "cell_type": "markdown",
   "metadata": {},
   "source": [
    "### Rodando a thread"
   ]
  },
  {
   "cell_type": "code",
   "execution_count": 106,
   "metadata": {},
   "outputs": [],
   "source": [
    "run = client.beta.threads.runs.create(\n",
    "    thread_id=thread.id,\n",
    "    assistant_id=assistant.id,\n",
    "    instructions=\"O nome do usuário é Wellington e ele é um usuário Premium.\"\n",
    ")"
   ]
  },
  {
   "cell_type": "markdown",
   "metadata": {},
   "source": [
    "### Aguardart a thread rodar"
   ]
  },
  {
   "cell_type": "code",
   "execution_count": 107,
   "metadata": {},
   "outputs": [
    {
     "name": "stdout",
     "output_type": "stream",
     "text": [
      "in_progress\n",
      "in_progress\n",
      "in_progress\n",
      "in_progress\n",
      "in_progress\n",
      "completed\n"
     ]
    }
   ],
   "source": [
    "import time\n",
    "# roda várias vezes para identificar o status\n",
    "while run.status in  [\"queued\", \"in_progress\", \"cancelling\", \"failed\" ]:\n",
    "    time.sleep(1)\n",
    "    run = client.beta.threads.runs.retrieve(\n",
    "        thread_id=thread.id,\n",
    "        run_id=run.id\n",
    "    )\n",
    "    print(run.status)"
   ]
  },
  {
   "cell_type": "markdown",
   "metadata": {},
   "source": [
    "### Quando terminar de rodar"
   ]
  },
  {
   "cell_type": "code",
   "execution_count": 108,
   "metadata": {},
   "outputs": [
    {
     "name": "stdout",
     "output_type": "stream",
     "text": [
      "SyncCursorPage[Message](data=[Message(id='msg_q99kfB5ViEr5Vy2UVTTAPEOD', assistant_id='asst_XMHT8QPcn1KMYAXCqgQtaolq', attachments=[], completed_at=None, content=[TextContentBlock(text=Text(annotations=[FileCitationAnnotation(end_index=726, file_citation=FileCitation(file_id='file-N6tHSN5Segqyk8gd4M9Uag'), start_index=713, text='【16:1†source】', type='file_citation'), FileCitationAnnotation(end_index=1124, file_citation=FileCitation(file_id='file-N6tHSN5Segqyk8gd4M9Uag'), start_index=1111, text='【16:2†source】', type='file_citation'), FileCitationAnnotation(end_index=1303, file_citation=FileCitation(file_id='file-N6tHSN5Segqyk8gd4M9Uag'), start_index=1290, text='【16:5†source】', type='file_citation')], value='Conforme o documento, o Hugging Face é uma empresa que foi criada em 2017 na França, inicialmente focada no desenvolvimento de chatbots. Com o tempo, a empresa expandiu suas operações e começou a desenvolver uma infraestrutura própria, assim como bibliotecas em Python que simplificam o uso de modelos de Processamento de Linguagem Natural (NLP). O Hugging Face se tornou uma plataforma colaborativa onde pesquisadores, empresas e entusiastas podem compartilhar modelos de inteligência artificial e conjuntos de dados para uma ampla gama de aplicações. Em 2023, a empresa atingiu um valor de mercado de 4,5 bilhões de dólares, tendo recebido investimentos de grandes empresas como Google, Meta, Microsoft e Nvidia【16:1†source】.\\n\\nAlém disso, a plataforma do Hugging Face é dividida em três áreas principais:\\n1. **Modelos**: Onde é possível buscar e visualizar todos os modelos de IA disponíveis.\\n2. **Spaces**: Aplicativos web que utilizam modelos de IA, desenvolvidos pela comunidade.\\n3. **Datasets**: Conjuntos de dados utilizados para treinar modelos de IA, que também estão disponíveis para uso na plataforma【16:2†source】. \\n\\nA plataforma permite que muitas funcionalidades e recursos sejam utilizados de forma aberta, embora alguns modelos possam exigir o consentimento aos termos de uso【16:5†source】.'), type='text')], created_at=1741735063, incomplete_at=None, incomplete_details=None, metadata={}, object='thread.message', role='assistant', run_id='run_ppJtwjjvF6waZJMiMrqXvXUW', status=None, thread_id='thread_OxlOfiFeyRhEq8zxPmssXuOg'), Message(id='msg_En8BkckK1VCY3SN4DAfVvnyi', assistant_id=None, attachments=[], completed_at=None, content=[TextContentBlock(text=Text(annotations=[], value='Segundo o documento fornecido, o que é o Huggin face?'), type='text')], created_at=1741735058, incomplete_at=None, incomplete_details=None, metadata={}, object='thread.message', role='user', run_id=None, status=None, thread_id='thread_OxlOfiFeyRhEq8zxPmssXuOg'), Message(id='msg_XjyN8aDImhOGxegxsiXsol6g', assistant_id='asst_XMHT8QPcn1KMYAXCqgQtaolq', attachments=[], completed_at=None, content=[TextContentBlock(text=Text(annotations=[FileCitationAnnotation(end_index=696, file_citation=FileCitation(file_id='file-N6tHSN5Segqyk8gd4M9Uag'), start_index=683, text='【12:0†source】', type='file_citation'), FileCitationAnnotation(end_index=709, file_citation=FileCitation(file_id='file-N6tHSN5Segqyk8gd4M9Uag'), start_index=696, text='【12:1†source】', type='file_citation'), FileCitationAnnotation(end_index=1124, file_citation=FileCitation(file_id='file-N6tHSN5Segqyk8gd4M9Uag'), start_index=1111, text='【12:0†source】', type='file_citation'), FileCitationAnnotation(end_index=1138, file_citation=FileCitation(file_id='file-N6tHSN5Segqyk8gd4M9Uag'), start_index=1124, text='【12:12†source】', type='file_citation'), FileCitationAnnotation(end_index=1353, file_citation=FileCitation(file_id='file-N6tHSN5Segqyk8gd4M9Uag'), start_index=1340, text='【12:8†source】', type='file_citation')], value='De acordo com o documento fornecido, o Hugging Face é uma empresa fundada em 2017 na França, inicialmente dedicada ao desenvolvimento de chatbots. Com o passar do tempo, a empresa expandiu suas atividades, criando uma infraestrutura própria e bibliotecas em Python que facilitam o uso de modelos de Processamento de Linguagem Natural (NLP). O Hugging Face se transformou em uma plataforma colaborativa, permitindo que pesquisadores, empresas e entusiastas compartilhem modelos de IA e conjuntos de dados para diversas tarefas. Em 2023, a empresa alcançou um valor de mercado de 4,5 bilhões de dólares, recebendo investimentos de grandes empresas como Google, Meta, Microsoft e Nvidia【12:0†source】【12:1†source】.\\n\\nAdicionalmente, a plataforma do Hugging Face é composta por três áreas principais: \\n1. **Modelos**: onde é possível buscar e visualizar diversos modelos de IA.\\n2. **Spaces**: aplicativos web que utilizam a infraestrutura do Hugging Face, desenvolvidos pela comunidade.\\n3. **Datasets**: conjuntos de dados utilizados para o treinamento de modelos de IA, que também estão disponíveis para a comunidade【12:0†source】【12:12†source】.\\n\\nO Hugging Face promove uma abordagem de uso aberto, na qual uma parte considerável de seus recursos pode ser acessada livremente, embora alguns modelos possam exigir o consentimento dos termos de uso【12:8†source】.'), type='text')], created_at=1741734926, incomplete_at=None, incomplete_details=None, metadata={}, object='thread.message', role='assistant', run_id='run_PFz8lVbXY21yaRIeyoHidqrT', status=None, thread_id='thread_OxlOfiFeyRhEq8zxPmssXuOg'), Message(id='msg_grIWUiS0lWkshcHEw92zAWwd', assistant_id=None, attachments=[], completed_at=None, content=[TextContentBlock(text=Text(annotations=[], value='Segundo o documento fornecido, o que é o Huggin face?'), type='text')], created_at=1741734922, incomplete_at=None, incomplete_details=None, metadata={}, object='thread.message', role='user', run_id=None, status=None, thread_id='thread_OxlOfiFeyRhEq8zxPmssXuOg'), Message(id='msg_4zookfHEekv6EROvuhZyEz8d', assistant_id='asst_XMHT8QPcn1KMYAXCqgQtaolq', attachments=[], completed_at=None, content=[TextContentBlock(text=Text(annotations=[FileCitationAnnotation(end_index=660, file_citation=FileCitation(file_id='file-N6tHSN5Segqyk8gd4M9Uag'), start_index=648, text='【8:3†source】', type='file_citation'), FileCitationAnnotation(end_index=1066, file_citation=FileCitation(file_id='file-N6tHSN5Segqyk8gd4M9Uag'), start_index=1053, text='【8:16†source】', type='file_citation'), FileCitationAnnotation(end_index=1078, file_citation=FileCitation(file_id='file-N6tHSN5Segqyk8gd4M9Uag'), start_index=1066, text='【8:3†source】', type='file_citation'), FileCitationAnnotation(end_index=1333, file_citation=FileCitation(file_id='file-N6tHSN5Segqyk8gd4M9Uag'), start_index=1320, text='【8:16†source】', type='file_citation')], value='De acordo com o documento fornecido, o Hugging Face é uma empresa que foi fundada em 2017 na França, inicialmente com o desenvolvimento de chatbots. Com o tempo, a empresa evoluiu para criar uma infraestrutura própria e bibliotecas em Python que facilitam o uso de modelos de Processamento de Linguagem Natural (NLP). O Hugging Face se tornou uma plataforma colaborativa onde pesquisadores, empresas e entusiastas podem compartilhar modelos de IA e conjuntos de dados para várias aplicações. Em 2023, a empresa alcançou um valor de mercado de 4,5 bilhões de dólares, recebendo investimentos de grandes empresas como Google, Meta, Microsoft e Nvidia【8:3†source】.\\n\\nA plataforma do Hugging Face é dividida em três áreas principais:\\n1. **Modelos**: onde os usuários podem buscar e visualizar todos os modelos de IA disponíveis.\\n2. **Spaces**: aplicativos web de IA que utilizam a infraestrutura do Hugging Face, desenvolvidos pela comunidade.\\n3. **Datasets**: conjuntos de dados utilizados para treinar modelos de IA, que estão disponíveis para a comunidade【8:16†source】【8:3†source】.\\n\\nAlém disso, uma parte significativa dos recursos disponíveis no Hugging Face é de acesso aberto, permitindo que qualquer usuário utilize os modelos e conjuntos de dados, embora alguns modelos possam exigir o consentimento dos termos de uso【8:16†source】.'), type='text')], created_at=1741734781, incomplete_at=None, incomplete_details=None, metadata={}, object='thread.message', role='assistant', run_id='run_VKJ0FPznPn7ozjc2iPf2JXef', status=None, thread_id='thread_OxlOfiFeyRhEq8zxPmssXuOg'), Message(id='msg_TYzhMMuTdFWjRj4jQB4cCx9w', assistant_id=None, attachments=[], completed_at=None, content=[TextContentBlock(text=Text(annotations=[], value='Segundo o documento fornecido, o que é o Huggin face?'), type='text')], created_at=1741734772, incomplete_at=None, incomplete_details=None, metadata={}, object='thread.message', role='user', run_id=None, status=None, thread_id='thread_OxlOfiFeyRhEq8zxPmssXuOg'), Message(id='msg_LZjL09XfXu4pdJ8u5qGc6ZAx', assistant_id='asst_XMHT8QPcn1KMYAXCqgQtaolq', attachments=[], completed_at=None, content=[TextContentBlock(text=Text(annotations=[FileCitationAnnotation(end_index=679, file_citation=FileCitation(file_id='file-N6tHSN5Segqyk8gd4M9Uag'), start_index=667, text='【4:1†source】', type='file_citation'), FileCitationAnnotation(end_index=962, file_citation=FileCitation(file_id='file-N6tHSN5Segqyk8gd4M9Uag'), start_index=950, text='【4:9†source】', type='file_citation')], value='De acordo com o documento fornecido, o Hugging Face é uma empresa que começou em 2017 na França, originalmente desenvolvendo chatbots. Com o tempo, a empresa expandiu suas atividades, passando a criar uma infraestrutura própria e bibliotecas de Python que facilitam o uso de modelos de Processamento de Linguagem Natural (NLP). O Hugging Face se transformou em uma plataforma colaborativa onde pesquisadores, empresas e entusiastas podem compartilhar modelos de IA e conjuntos de dados para diversas aplicações. Em 2023, a empresa alcançou um valor de mercado de 4.5 bilhões de dólares e recebeu investimentos de grandes empresas como Google, Meta, Microsoft e Nvidia【4:1†source】. \\n\\nAlém disso, a plataforma do Hugging Face oferece três áreas principais: Modelos, onde se pode buscar e visualizar modelos de IA; Spaces, que são aplicativos web produzidos pela comunidade de IA; e Datasets, que são conjuntos de dados usados para treinar modelos de IA【4:9†source】.'), type='text')], created_at=1741732161, incomplete_at=None, incomplete_details=None, metadata={}, object='thread.message', role='assistant', run_id='run_9ZmgrhIsECipj0pMtwH8JU5D', status=None, thread_id='thread_OxlOfiFeyRhEq8zxPmssXuOg'), Message(id='msg_BXxtT9Km7tjr06JeM5x5RbEy', assistant_id=None, attachments=[], completed_at=None, content=[TextContentBlock(text=Text(annotations=[], value='Segundo o documento fornecido, o que é o Huggin face?'), type='text')], created_at=1741732154, incomplete_at=None, incomplete_details=None, metadata={}, object='thread.message', role='user', run_id=None, status=None, thread_id='thread_OxlOfiFeyRhEq8zxPmssXuOg')], has_more=False, object='list', first_id='msg_q99kfB5ViEr5Vy2UVTTAPEOD', last_id='msg_BXxtT9Km7tjr06JeM5x5RbEy')\n"
     ]
    }
   ],
   "source": [
    "if run.status == \"completed\":\n",
    "    messages = client.beta.threads.messages.list(\n",
    "        thread_id=thread.id,\n",
    "    )\n",
    "    print(messages)\n",
    "else:\n",
    "    print(run.error)"
   ]
  },
  {
   "cell_type": "code",
   "execution_count": 109,
   "metadata": {},
   "outputs": [
    {
     "name": "stdout",
     "output_type": "stream",
     "text": [
      "Conforme o documento, o Hugging Face é uma empresa que foi criada em 2017 na França, inicialmente focada no desenvolvimento de chatbots. Com o tempo, a empresa expandiu suas operações e começou a desenvolver uma infraestrutura própria, assim como bibliotecas em Python que simplificam o uso de modelos de Processamento de Linguagem Natural (NLP). O Hugging Face se tornou uma plataforma colaborativa onde pesquisadores, empresas e entusiastas podem compartilhar modelos de inteligência artificial e conjuntos de dados para uma ampla gama de aplicações. Em 2023, a empresa atingiu um valor de mercado de 4,5 bilhões de dólares, tendo recebido investimentos de grandes empresas como Google, Meta, Microsoft e Nvidia【16:1†source】.\n",
      "\n",
      "Além disso, a plataforma do Hugging Face é dividida em três áreas principais:\n",
      "1. **Modelos**: Onde é possível buscar e visualizar todos os modelos de IA disponíveis.\n",
      "2. **Spaces**: Aplicativos web que utilizam modelos de IA, desenvolvidos pela comunidade.\n",
      "3. **Datasets**: Conjuntos de dados utilizados para treinar modelos de IA, que também estão disponíveis para uso na plataforma【16:2†source】. \n",
      "\n",
      "A plataforma permite que muitas funcionalidades e recursos sejam utilizados de forma aberta, embora alguns modelos possam exigir o consentimento aos termos de uso【16:5†source】.\n"
     ]
    }
   ],
   "source": [
    "print(messages.data[0].content[0].text.value)"
   ]
  },
  {
   "cell_type": "markdown",
   "metadata": {},
   "source": [
    "### Analisando os passos do modelo"
   ]
  },
  {
   "cell_type": "code",
   "execution_count": 110,
   "metadata": {},
   "outputs": [],
   "source": [
    "run_steps = client.beta.threads.runs.steps.list(\n",
    "    thread_id=thread.id,\n",
    "    run_id=run.id\n",
    ")"
   ]
  },
  {
   "cell_type": "code",
   "execution_count": 111,
   "metadata": {},
   "outputs": [
    {
     "data": {
      "text/plain": [
       "MessageCreationStepDetails(message_creation=MessageCreation(message_id='msg_q99kfB5ViEr5Vy2UVTTAPEOD'), type='message_creation')"
      ]
     },
     "execution_count": 111,
     "metadata": {},
     "output_type": "execute_result"
    }
   ],
   "source": [
    "run_steps.data[0].step_details"
   ]
  },
  {
   "cell_type": "code",
   "execution_count": 112,
   "metadata": {},
   "outputs": [
    {
     "name": "stdout",
     "output_type": "stream",
     "text": [
      "#step: tool_calls\n",
      "> tool_call type: file_search\n",
      "> input:\n",
      "FileSearchToolCall(id='call_SQ0CSmS9s0trqJeq2rlu8bW6', file_search=FileSearch(ranking_options=FileSearchRankingOptions(ranker='default_2024_08_21', score_threshold=0.0), results=[FileSearchResult(file_id='file-N6tHSN5Segqyk8gd4M9Uag', file_name='Explorando o Universo das IAs com Hugging Face.pdf', score=0.6833682153670512, content=None, attributes={}), FileSearchResult(file_id='file-N6tHSN5Segqyk8gd4M9Uag', file_name='Explorando o Universo das IAs com Hugging Face.pdf', score=0.6464814037049909, content=None, attributes={}), FileSearchResult(file_id='file-N6tHSN5Segqyk8gd4M9Uag', file_name='Explorando o Universo das IAs com Hugging Face.pdf', score=0.6216119790300367, content=None, attributes={}), FileSearchResult(file_id='file-N6tHSN5Segqyk8gd4M9Uag', file_name='Explorando o Universo das IAs com Hugging Face.pdf', score=0.48571616012481766, content=None, attributes={}), FileSearchResult(file_id='file-N6tHSN5Segqyk8gd4M9Uag', file_name='Explorando o Universo das IAs com Hugging Face.pdf', score=0.4794505330880854, content=None, attributes={}), FileSearchResult(file_id='file-N6tHSN5Segqyk8gd4M9Uag', file_name='Explorando o Universo das IAs com Hugging Face.pdf', score=0.33553970402065203, content=None, attributes={}), FileSearchResult(file_id='file-N6tHSN5Segqyk8gd4M9Uag', file_name='Explorando o Universo das IAs com Hugging Face.pdf', score=0.3255444658628808, content=None, attributes={}), FileSearchResult(file_id='file-N6tHSN5Segqyk8gd4M9Uag', file_name='Explorando o Universo das IAs com Hugging Face.pdf', score=0.300989484402654, content=None, attributes={}), FileSearchResult(file_id='file-N6tHSN5Segqyk8gd4M9Uag', file_name='Explorando o Universo das IAs com Hugging Face.pdf', score=0.29551637884042287, content=None, attributes={}), FileSearchResult(file_id='file-N6tHSN5Segqyk8gd4M9Uag', file_name='Explorando o Universo das IAs com Hugging Face.pdf', score=0.2693532204343843, content=None, attributes={}), FileSearchResult(file_id='file-N6tHSN5Segqyk8gd4M9Uag', file_name='Explorando o Universo das IAs com Hugging Face.pdf', score=0.26469887944331255, content=None, attributes={}), FileSearchResult(file_id='file-N6tHSN5Segqyk8gd4M9Uag', file_name='Explorando o Universo das IAs com Hugging Face.pdf', score=0.26319148986046675, content=None, attributes={}), FileSearchResult(file_id='file-N6tHSN5Segqyk8gd4M9Uag', file_name='Explorando o Universo das IAs com Hugging Face.pdf', score=0.259775708489077, content=None, attributes={}), FileSearchResult(file_id='file-N6tHSN5Segqyk8gd4M9Uag', file_name='Explorando o Universo das IAs com Hugging Face.pdf', score=0.25537634222044514, content=None, attributes={}), FileSearchResult(file_id='file-N6tHSN5Segqyk8gd4M9Uag', file_name='Explorando o Universo das IAs com Hugging Face.pdf', score=0.2530739109990197, content=None, attributes={}), FileSearchResult(file_id='file-N6tHSN5Segqyk8gd4M9Uag', file_name='Explorando o Universo das IAs com Hugging Face.pdf', score=0.2478626574260958, content=None, attributes={}), FileSearchResult(file_id='file-N6tHSN5Segqyk8gd4M9Uag', file_name='Explorando o Universo das IAs com Hugging Face.pdf', score=0.2446813213519874, content=None, attributes={}), FileSearchResult(file_id='file-N6tHSN5Segqyk8gd4M9Uag', file_name='Explorando o Universo das IAs com Hugging Face.pdf', score=0.23108920138319386, content=None, attributes={}), FileSearchResult(file_id='file-N6tHSN5Segqyk8gd4M9Uag', file_name='Explorando o Universo das IAs com Hugging Face.pdf', score=0.2299355124235951, content=None, attributes={}), FileSearchResult(file_id='file-N6tHSN5Segqyk8gd4M9Uag', file_name='Explorando o Universo das IAs com Hugging Face.pdf', score=0.22800287492525242, content=None, attributes={})]), type='file_search')\n",
      "#step: message_creation\n",
      "--- message_text: Conforme o documento, o Hugging Face é uma empresa que foi criada em 2017 na França, inicialmente focada no desenvolvimento de chatbots. Com o tempo, a empresa expandiu suas operações e começou a desenvolver uma infraestrutura própria, assim como bibliotecas em Python que simplificam o uso de modelos de Processamento de Linguagem Natural (NLP). O Hugging Face se tornou uma plataforma colaborativa onde pesquisadores, empresas e entusiastas podem compartilhar modelos de inteligência artificial e conjuntos de dados para uma ampla gama de aplicações. Em 2023, a empresa atingiu um valor de mercado de 4,5 bilhões de dólares, tendo recebido investimentos de grandes empresas como Google, Meta, Microsoft e Nvidia【16:1†source】.\n",
      "\n",
      "Além disso, a plataforma do Hugging Face é dividida em três áreas principais:\n",
      "1. **Modelos**: Onde é possível buscar e visualizar todos os modelos de IA disponíveis.\n",
      "2. **Spaces**: Aplicativos web que utilizam modelos de IA, desenvolvidos pela comunidade.\n",
      "3. **Datasets**: Conjuntos de dados utilizados para treinar modelos de IA, que também estão disponíveis para uso na plataforma【16:2†source】. \n",
      "\n",
      "A plataforma permite que muitas funcionalidades e recursos sejam utilizados de forma aberta, embora alguns modelos possam exigir o consentimento aos termos de uso【16:5†source】.\n"
     ]
    }
   ],
   "source": [
    "for step in run_steps.data[::-1]:\n",
    "    print(\"#step:\", step.step_details.type)\n",
    "    if step.step_details.type == \"tool_calls\":\n",
    "        for tool_call in step.step_details.tool_calls:\n",
    "            if tool_call.type == \"code_interpreter\":\n",
    "                print(\"> tool_call type:\", tool_call.type)\n",
    "                print(\"> input:\")\n",
    "                print(tool_call.code_interpreter.input)\n",
    "                print(\"> outputs:\", tool_call.code_interpreter.outputs)\n",
    "            else:\n",
    "                print(\"> tool_call type:\", tool_call.type)\n",
    "                print(\"> input:\")\n",
    "                print(tool_call)\n",
    "        \n",
    "    if step.step_details.type == \"message_creation\":\n",
    "        message = client.beta.threads.messages.retrieve(\n",
    "            thread_id=thread.id, message_id=step.step_details.message_creation.message_id\n",
    "        )\n",
    "        print(\"--- message_text:\", message.content[0].text.value)\n"
   ]
  },
  {
   "cell_type": "code",
   "execution_count": 113,
   "metadata": {},
   "outputs": [],
   "source": [
    "nessages = client.beta.threads.messages.list(thread_id=thread.id)\n",
    "message = list(messages)[0].content[0].text\n",
    "annotations = message.annotations\n",
    "quotes = []\t\n",
    "for index, annotation in enumerate(annotations):\n",
    "        message.value = message.value.replace(annotation.text, f'[{index}]')\n",
    "        if file_cit := getattr(annotation, 'file_citation', None):\n",
    "            file = client.files.retrieve(file_cit.file_id)\n",
    "            quotes.append(f'[{index}]: {file.filename}')\n",
    "quotes = \"\\n\".join(quotes)\n",
    "message.value = f'{message.value}\\n{quotes}'\n"
   ]
  },
  {
   "cell_type": "code",
   "execution_count": 114,
   "metadata": {},
   "outputs": [
    {
     "name": "stdout",
     "output_type": "stream",
     "text": [
      "Conforme o documento, o Hugging Face é uma empresa que foi criada em 2017 na França, inicialmente focada no desenvolvimento de chatbots. Com o tempo, a empresa expandiu suas operações e começou a desenvolver uma infraestrutura própria, assim como bibliotecas em Python que simplificam o uso de modelos de Processamento de Linguagem Natural (NLP). O Hugging Face se tornou uma plataforma colaborativa onde pesquisadores, empresas e entusiastas podem compartilhar modelos de inteligência artificial e conjuntos de dados para uma ampla gama de aplicações. Em 2023, a empresa atingiu um valor de mercado de 4,5 bilhões de dólares, tendo recebido investimentos de grandes empresas como Google, Meta, Microsoft e Nvidia[0].\n",
      "\n",
      "Além disso, a plataforma do Hugging Face é dividida em três áreas principais:\n",
      "1. **Modelos**: Onde é possível buscar e visualizar todos os modelos de IA disponíveis.\n",
      "2. **Spaces**: Aplicativos web que utilizam modelos de IA, desenvolvidos pela comunidade.\n",
      "3. **Datasets**: Conjuntos de dados utilizados para treinar modelos de IA, que também estão disponíveis para uso na plataforma[1]. \n",
      "\n",
      "A plataforma permite que muitas funcionalidades e recursos sejam utilizados de forma aberta, embora alguns modelos possam exigir o consentimento aos termos de uso[2].\n",
      "[0]: Explorando o Universo das IAs com Hugging Face.pdf\n",
      "[1]: Explorando o Universo das IAs com Hugging Face.pdf\n",
      "[2]: Explorando o Universo das IAs com Hugging Face.pdf\n"
     ]
    }
   ],
   "source": [
    "print(message.value)"
   ]
  }
 ],
 "metadata": {
  "kernelspec": {
   "display_name": ".venv",
   "language": "python",
   "name": "python3"
  },
  "language_info": {
   "codemirror_mode": {
    "name": "ipython",
    "version": 3
   },
   "file_extension": ".py",
   "mimetype": "text/x-python",
   "name": "python",
   "nbconvert_exporter": "python",
   "pygments_lexer": "ipython3",
   "version": "3.13.2"
  }
 },
 "nbformat": 4,
 "nbformat_minor": 2
}
